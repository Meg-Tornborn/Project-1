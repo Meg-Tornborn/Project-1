{
 "cells": [
  {
   "cell_type": "markdown",
   "id": "f74e7836",
   "metadata": {},
   "source": [
    "## Лабораторна робота 1. Ймовірнісні та геометричні методи виявлення аномалій\n",
    "\n",
    "Ми дізнаємося, що аномалії є викидами в даних, які заслуговують на подальше вивчення. \n",
    "Ми обговоримо основні методи оцінки для виявлення викидів.\n",
    "\n",
    "Ми будемо шукати аномалії в одновимірних та багатовимірних даних. Ми будемо використовувати як z-оцінки, так і модифіковані z-оцінки.Розглянемо сильні сторони та недоліки обох підходів.\n",
    "\n",
    "Ми будемо шукати аномалії користуючись тестом Граббса.\n",
    "\n",
    "Ми використаїмо відстань Махалонобіса для знаходження аномалій в багатовимірних даних.\n",
    "\n",
    "\n",
    "## Результати навчання\n",
    "Ви повинні:\n",
    "\n",
    "1) Розуміння виявлення аномалій як алгоритму\n",
    "\n",
    "2) Оцінка важливості вибору відповідної моделі для даних, за якою можна судити про те, що є нормальним, а що може бути аномалією\n",
    "\n",
    "3) Здобути практичний досвід використання z-оцінки та модифікованої z-оцінки, методу Граббса, відстані Махалонобіса для виявлення аномалій\n",
    "\n",
    "## Imports"
   ]
  },
  {
   "cell_type": "code",
   "execution_count": null,
   "id": "4dad676a",
   "metadata": {},
   "outputs": [],
   "source": [
    "import sys\n",
    "import scipy\n",
    "import scipy.stats as ss\n",
    "import numpy as np\n",
    "import matplotlib\n",
    "import matplotlib.pyplot as plt\n",
    "import pandas as pd\n",
    "import random"
   ]
  },
  {
   "cell_type": "markdown",
   "id": "e1f5d504",
   "metadata": {},
   "source": [
    "## Розділ 1: Огляд виявлення аномалій\n",
    "Тут ми будемо використовувати z-оцінку і модифіковану z-оцінку для виявлення аномалій у даних реального світу. Спочатку ми будемо використовувати набір даних, де виявлення аномалій працює відносно гладко. Потім у якості вправи ви працюватимете з набором даних, де потрібно здійснити глибший аналіз, щоб дізнатися про деякі проблеми, пов’язані з z-оцінкою і модифікованою z-оцінкою.\n",
    "\n",
    "Хід роботи:\n",
    "\n",
    "- Створіть модель для своїх даних\n",
    "- Виберіть метод оцінки\n",
    "- Виберіть межу, вище/нижче якої точки є аномаліями\n",
    "- Подивіться на ці аномалії та перевірте, чи має аналіз сенс\n",
    "\n",
    "ЗАСТЕРЕЖЕННЯ. Хоча настійно рекомендується досліджувати дані перед роботою з ними, недоцільно використовувати це дослідження, щоб вирішити, яким має бути відсікання для методу оцінки. Якщо ви це зробите, ви отримаєте лише викиди, які ви вже вибрали під час дослідження. Вибір моделювання, оцінки та відсікання слід робити без упередженості.\n",
    "\n",
    "## Розділ 2: Застосування Z-Score до набору даних — участь студентів у стандартизованому тестуванні SAT\n",
    "Почнемо з прикладу, коли виявлення аномалій працює гладко. Ми перевіримо участь студентів у стандартизованому тестуванні. Зокрема, ми розглянемо рівень участі учнів у SAT у шкільних округах Коннектикуту в 2012 році. Вихідні дані доступні тут:\n",
    "\n",
    "https://catalog.data.gov/dataset/sat-district-participation-and-performance-2012-2013\n",
    "\n",
    "Дані було очищено таким чином, щоб відсутні значення були видалені, відсотки були перетворені в десяткові дроби та збережено лише важливі дані за 2012 рік.\n",
    "\n",
    "Метою цього розділу є виявлення шкіл із низьким рівнем участі як перший крок у допомозі цим школам покращити рівень участі.\n",
    "\n",
    "### Завантажте дані як датафрейм pandas і подивіться на них."
   ]
  },
  {
   "cell_type": "code",
   "execution_count": 2,
   "id": "f15a691d",
   "metadata": {},
   "outputs": [
    {
     "name": "stdout",
     "output_type": "stream",
     "text": [
      "(130, 2)\n"
     ]
    },
    {
     "data": {
      "text/html": [
       "<div>\n",
       "<style scoped>\n",
       "    .dataframe tbody tr th:only-of-type {\n",
       "        vertical-align: middle;\n",
       "    }\n",
       "\n",
       "    .dataframe tbody tr th {\n",
       "        vertical-align: top;\n",
       "    }\n",
       "\n",
       "    .dataframe thead th {\n",
       "        text-align: right;\n",
       "    }\n",
       "</style>\n",
       "<table border=\"1\" class=\"dataframe\">\n",
       "  <thead>\n",
       "    <tr style=\"text-align: right;\">\n",
       "      <th></th>\n",
       "      <th>District</th>\n",
       "      <th>Participation Rate</th>\n",
       "    </tr>\n",
       "  </thead>\n",
       "  <tbody>\n",
       "    <tr>\n",
       "      <th>0</th>\n",
       "      <td>Ansonia</td>\n",
       "      <td>0.66</td>\n",
       "    </tr>\n",
       "    <tr>\n",
       "      <th>1</th>\n",
       "      <td>Avon</td>\n",
       "      <td>0.90</td>\n",
       "    </tr>\n",
       "    <tr>\n",
       "      <th>2</th>\n",
       "      <td>Berlin</td>\n",
       "      <td>0.81</td>\n",
       "    </tr>\n",
       "    <tr>\n",
       "      <th>3</th>\n",
       "      <td>Bethel</td>\n",
       "      <td>0.86</td>\n",
       "    </tr>\n",
       "    <tr>\n",
       "      <th>4</th>\n",
       "      <td>Bloomfield</td>\n",
       "      <td>0.81</td>\n",
       "    </tr>\n",
       "  </tbody>\n",
       "</table>\n",
       "</div>"
      ],
      "text/plain": [
       "     District  Participation Rate\n",
       "0     Ansonia                0.66\n",
       "1        Avon                0.90\n",
       "2      Berlin                0.81\n",
       "3      Bethel                0.86\n",
       "4  Bloomfield                0.81"
      ]
     },
     "execution_count": 2,
     "metadata": {},
     "output_type": "execute_result"
    }
   ],
   "source": [
    "ct_test = pd.read_csv('SAT_CT_District_Participation_2012.csv') \n",
    "print(ct_test.shape)\n",
    "ct_test.head()"
   ]
  },
  {
   "cell_type": "markdown",
   "id": "b7d51f66",
   "metadata": {},
   "source": [
    "Є 130 шкіл. Для зручності ми будемо використовувати номер індексу як цифрову позначку для кожного шкільного округу та використовуватимемо назву, коли це доречно.\n",
    "\n",
    "Ми збираємося почати з припущення, що дані можна моделювати за допомогою нормального розподілу (ми перевіримо це пізніше). І ми будемо використовувати z-показник для виявлення аномалій. Оскільки ми стурбовані низькими  показниками знань, наше обмеження буде від’ємним числом --- ми шукаємо школи з рівнем знань нижче середнього. Тут ми вибираємо 𝑧=−2. Тобто будь-яка школа з z-показником нижче -2 буде позначена як аномальна.\n",
    "\n",
    "Якщо показники рівня знань справді розподіляються нормально, то 95% даних мають бути в межах двох стандартних відхилень від середнього. Іншими словами, аномалії для нашого порогу лежать у 2,5% лівому хвості розподілу.\n",
    "\n",
    "Зверніть увагу, що для більших наборів даних більші абсолютні значення 𝑧 (зазвичай 𝑧=3) часто використовуються як порогове значення. Оскільки у нас невеликий набір даних, велике значення 𝑧 може призвести до того, що дані не будуть позначені як аномалія. Крім того, ми були консервативними у своєму виборі 𝑧, тому що ми хочемо допомогти якомога більшій кількості шкіл.\n",
    "\n",
    "Ми могли б просто розрахувати z-показник для рівня знань, але це хороша практика спочатку переглянути фундаментальну статистику. Давайте обчислимо середнє значення та стандартне відхилення. Оскільки дані утворюють всю генеральну сукупність, ми отримаємо стандартне відхилення генеральної сукупності (на відміну від стандартного відхилення вибірки)"
   ]
  },
  {
   "cell_type": "code",
   "execution_count": 3,
   "id": "5d343ac2",
   "metadata": {},
   "outputs": [],
   "source": [
    "mean_rate = ct_test['Participation Rate'].mean() #середнє\n",
    "\n",
    "# ddof — це корекція числа ступенів вільності при розрахунку стандартного відхилення;\n",
    "# для стандартного відхилення сукупності ddof=0\n",
    "stdev_rate = ct_test['Participation Rate'].std(ddof=0) #стандартне відхилення (дисперсія)"
   ]
  },
  {
   "cell_type": "code",
   "execution_count": 4,
   "id": "afa549ba",
   "metadata": {},
   "outputs": [
    {
     "name": "stdout",
     "output_type": "stream",
     "text": [
      "Mean participation rate is 0.741\n",
      "Standard deviation is 0.136\n"
     ]
    }
   ],
   "source": [
    "print('Mean participation rate is {:.3f}'.format(mean_rate))  #середнє\n",
    "print('Standard deviation is {:.3f}'.format(stdev_rate))  #стандартне відхилення (стандартне квадратичне відхилення = корінь квадратний з дисперсії)"
   ]
  },
  {
   "cell_type": "markdown",
   "id": "cc633a42",
   "metadata": {},
   "source": [
    "#### Обчисліть z-оцінку та додайте результат до набору даних."
   ]
  },
  {
   "cell_type": "code",
   "execution_count": 5,
   "id": "abd7e760",
   "metadata": {},
   "outputs": [
    {
     "data": {
      "text/html": [
       "<div>\n",
       "<style scoped>\n",
       "    .dataframe tbody tr th:only-of-type {\n",
       "        vertical-align: middle;\n",
       "    }\n",
       "\n",
       "    .dataframe tbody tr th {\n",
       "        vertical-align: top;\n",
       "    }\n",
       "\n",
       "    .dataframe thead th {\n",
       "        text-align: right;\n",
       "    }\n",
       "</style>\n",
       "<table border=\"1\" class=\"dataframe\">\n",
       "  <thead>\n",
       "    <tr style=\"text-align: right;\">\n",
       "      <th></th>\n",
       "      <th>District</th>\n",
       "      <th>Participation Rate</th>\n",
       "      <th>zscore</th>\n",
       "    </tr>\n",
       "  </thead>\n",
       "  <tbody>\n",
       "    <tr>\n",
       "      <th>0</th>\n",
       "      <td>Ansonia</td>\n",
       "      <td>0.66</td>\n",
       "      <td>-0.593779</td>\n",
       "    </tr>\n",
       "    <tr>\n",
       "      <th>1</th>\n",
       "      <td>Avon</td>\n",
       "      <td>0.90</td>\n",
       "      <td>1.175649</td>\n",
       "    </tr>\n",
       "    <tr>\n",
       "      <th>2</th>\n",
       "      <td>Berlin</td>\n",
       "      <td>0.81</td>\n",
       "      <td>0.512113</td>\n",
       "    </tr>\n",
       "    <tr>\n",
       "      <th>3</th>\n",
       "      <td>Bethel</td>\n",
       "      <td>0.86</td>\n",
       "      <td>0.880744</td>\n",
       "    </tr>\n",
       "    <tr>\n",
       "      <th>4</th>\n",
       "      <td>Bloomfield</td>\n",
       "      <td>0.81</td>\n",
       "      <td>0.512113</td>\n",
       "    </tr>\n",
       "    <tr>\n",
       "      <th>5</th>\n",
       "      <td>Bolton</td>\n",
       "      <td>0.85</td>\n",
       "      <td>0.807018</td>\n",
       "    </tr>\n",
       "    <tr>\n",
       "      <th>6</th>\n",
       "      <td>Branford</td>\n",
       "      <td>0.77</td>\n",
       "      <td>0.217209</td>\n",
       "    </tr>\n",
       "    <tr>\n",
       "      <th>7</th>\n",
       "      <td>Bridgeport</td>\n",
       "      <td>0.58</td>\n",
       "      <td>-1.183589</td>\n",
       "    </tr>\n",
       "  </tbody>\n",
       "</table>\n",
       "</div>"
      ],
      "text/plain": [
       "     District  Participation Rate    zscore\n",
       "0     Ansonia                0.66 -0.593779\n",
       "1        Avon                0.90  1.175649\n",
       "2      Berlin                0.81  0.512113\n",
       "3      Bethel                0.86  0.880744\n",
       "4  Bloomfield                0.81  0.512113\n",
       "5      Bolton                0.85  0.807018\n",
       "6    Branford                0.77  0.217209\n",
       "7  Bridgeport                0.58 -1.183589"
      ]
     },
     "execution_count": 5,
     "metadata": {},
     "output_type": "execute_result"
    }
   ],
   "source": [
    "zscore_rate = ss.zscore(ct_test['Participation Rate'], ddof=0) #Обчислює z-статистику для кожного значення у вибірці відносно середнього значення вибірки та стандартного відхилення.\n",
    "ct_test = ct_test.assign(zscore=zscore_rate)  #повертає новий об’єкт (копію) з новими стовпцями\n",
    "ct_test.head(8)"
   ]
  },
  {
   "cell_type": "markdown",
   "id": "fda7f26d",
   "metadata": {},
   "source": [
    "#### Тепер визначте аномалії та побудуйте результати."
   ]
  },
  {
   "cell_type": "code",
   "execution_count": 6,
   "id": "b1e94313",
   "metadata": {},
   "outputs": [],
   "source": [
    "def plot_anomaly(score_data, threshold):\n",
    "    # Mask to plot values above and below threshold in different colors\n",
    "    score_data = score_data.copy().sort_values(ascending=False).values  #копіюємо, сортуємо по спаданню, повертає представлення Numpy DataFrame.\n",
    "    ranks = np.linspace(1, len(score_data), len(score_data)) #функція рівномірно повертає числові пробіли відносно інтервалу\n",
    "    mask_outlier = (score_data < threshold)\n",
    "    \n",
    "    \n",
    "    plt.figure(dpi=100)\n",
    "    plt.plot(ranks[~mask_outlier], score_data[~mask_outlier],'o', color='b',label='OK schools')  # символ ~ інвертує логічну маску\n",
    "    plt.plot(ranks[mask_outlier], score_data[mask_outlier],'o', color='r', label='anomalies')\n",
    "    plt.axhline(threshold,color='r',label='threshold', alpha=0.5)\n",
    "    plt.legend(loc = 'lower left')\n",
    "    plt.title('Z-score vs. school district', fontweight='bold')\n",
    "    plt.xlabel('Ranked School district')\n",
    "    plt.ylabel('Z-score')\n",
    "    plt.show()"
   ]
  },
  {
   "cell_type": "code",
   "execution_count": 7,
   "id": "192d8737",
   "metadata": {},
   "outputs": [
    {
     "data": {
      "image/png": "[encoded data removed]",
      "text/plain": [
       "<Figure size 960x720 with 1 Axes>"
      ]
     },
     "metadata": {},
     "output_type": "display_data"
    }
   ],
   "source": [
    "plot_anomaly(ct_test['zscore'], -2)"
   ]
  },
  {
   "cell_type": "markdown",
   "id": "d999ea71",
   "metadata": {},
   "source": [
    "#### Нарешті, отримайте список шкіл, які є аномаліями."
   ]
  },
  {
   "cell_type": "code",
   "execution_count": 8,
   "id": "2cb16580",
   "metadata": {},
   "outputs": [
    {
     "data": {
      "text/html": [
       "<div>\n",
       "<style scoped>\n",
       "    .dataframe tbody tr th:only-of-type {\n",
       "        vertical-align: middle;\n",
       "    }\n",
       "\n",
       "    .dataframe tbody tr th {\n",
       "        vertical-align: top;\n",
       "    }\n",
       "\n",
       "    .dataframe thead th {\n",
       "        text-align: right;\n",
       "    }\n",
       "</style>\n",
       "<table border=\"1\" class=\"dataframe\">\n",
       "  <thead>\n",
       "    <tr style=\"text-align: right;\">\n",
       "      <th></th>\n",
       "      <th>District</th>\n",
       "      <th>Participation Rate</th>\n",
       "      <th>zscore</th>\n",
       "    </tr>\n",
       "  </thead>\n",
       "  <tbody>\n",
       "    <tr>\n",
       "      <th>50</th>\n",
       "      <td>New Britain</td>\n",
       "      <td>0.40</td>\n",
       "      <td>-2.510660</td>\n",
       "    </tr>\n",
       "    <tr>\n",
       "      <th>99</th>\n",
       "      <td>Windham</td>\n",
       "      <td>0.37</td>\n",
       "      <td>-2.731839</td>\n",
       "    </tr>\n",
       "    <tr>\n",
       "      <th>121</th>\n",
       "      <td>Eastern Connecticut Regional Educational Servi...</td>\n",
       "      <td>0.39</td>\n",
       "      <td>-2.584386</td>\n",
       "    </tr>\n",
       "    <tr>\n",
       "      <th>125</th>\n",
       "      <td>Stamford Academy</td>\n",
       "      <td>0.28</td>\n",
       "      <td>-3.395374</td>\n",
       "    </tr>\n",
       "  </tbody>\n",
       "</table>\n",
       "</div>"
      ],
      "text/plain": [
       "                                              District  Participation Rate  \\\n",
       "50                                         New Britain                0.40   \n",
       "99                                             Windham                0.37   \n",
       "121  Eastern Connecticut Regional Educational Servi...                0.39   \n",
       "125                                   Stamford Academy                0.28   \n",
       "\n",
       "       zscore  \n",
       "50  -2.510660  \n",
       "99  -2.731839  \n",
       "121 -2.584386  \n",
       "125 -3.395374  "
      ]
     },
     "execution_count": 8,
     "metadata": {},
     "output_type": "execute_result"
    }
   ],
   "source": [
    "zscore_anomalies = ct_test[(ct_test['zscore'] < -2)]\n",
    "zscore_anomalies"
   ]
  },
  {
   "cell_type": "markdown",
   "id": "6fd5e8a6",
   "metadata": {},
   "source": [
    "Ми знайшли свої аномалії, але нам все ще залишається зробити одне: перевірити наше припущення, що дані можна моделювати з наближенням як нормальний розподіл. Якщо це так, то ми завершили наш тест. Якщо це не так, ми не можемо пов’язати z-оцінку з імовірностями, як ми робили раніше в цьому файлі.\n",
    "\n",
    "#### По-перше, давайте об’єднаємо дані та подивимось, як це виглядає як гістограма."
   ]
  },
  {
   "cell_type": "code",
   "execution_count": 9,
   "id": "a7a37598",
   "metadata": {},
   "outputs": [
    {
     "data": {
      "image/png": "[encoded data removed]",
      "text/plain": [
       "<Figure size 640x480 with 1 Axes>"
      ]
     },
     "metadata": {},
     "output_type": "display_data"
    }
   ],
   "source": [
    "nbins= 20\n",
    "n_hist, bins_hist, patches_hist = plt.hist(ct_test['Participation Rate'], nbins, density=False,\n",
    "                           cumulative=False, linewidth=1.0, label='data')"
   ]
  },
  {
   "cell_type": "markdown",
   "id": "a69698b3",
   "metadata": {},
   "source": [
    "Ця гістограма має два максимуми та зміщена вліво, тому навряд чи буде нормальною.\n",
    "\n",
    "##### Ми також можемо порівняти кумулятивну функцію розподілу (CDF) для наших даних із CDF нормального розподілу з тим самим середнім і стандартним відхиленням наших даних."
   ]
  },
  {
   "cell_type": "code",
   "execution_count": 10,
   "id": "5499f19d",
   "metadata": {},
   "outputs": [
    {
     "data": {
      "image/png": "[encoded data removed]",
      "text/plain": [
       "<Figure size 640x480 with 1 Axes>"
      ]
     },
     "metadata": {},
     "output_type": "display_data"
    }
   ],
   "source": [
    "num_bins = 130\n",
    "plt.hist(ct_test['Participation Rate'], num_bins, density=True, histtype='step',\n",
    "                           cumulative=True, linewidth=1.0, label='data')\n",
    "normal_dist = [random.gauss(mean_rate, stdev_rate) for _ in range(500)]\n",
    "plt.hist(normal_dist, num_bins, density=True, histtype='step',\n",
    "                           cumulative=True, linewidth=1.0, label='normal distribution')\n",
    "plt.grid(True) #додати лінії сітки до графіка\n",
    "plt.legend(loc='upper left')\n",
    "axes = plt.gca() #Отримайте поточні осі\n",
    "axes.set_xlim([0.2,1.0])\n",
    "plt.xlabel('Participation Rate')\n",
    "plt.ylabel('Cumulative probability')\n",
    "plt.show()"
   ]
  },
  {
   "cell_type": "markdown",
   "id": "64f47a4e",
   "metadata": {},
   "source": [
    "Знову ж таки, ми бачимо різницю. Якби ці два візуальні тести не були вирішальними, ми могли б провести чисельний тест на нормальність (наприклад, тест Шапіро-Вілка, або інший тест).\n",
    "\n",
    "Незважаючи на те, що наші дані не відповідають нормальному розподілу, як z-показник, так і модифікований z-показник допомогли нам визначити викиди. Таким чином, хоча ми не можемо робити жодних ймовірнісних прогнозів на основі z-показників, ми можемо з упевненістю зосередитися на цих чотирьох школах."
   ]
  },
  {
   "cell_type": "markdown",
   "id": "0efe420c",
   "metadata": {},
   "source": [
    "# Розділ 3: Порівняння Z-оцінки  з модифікованою Z-оцінкою — найкращі бомбардири чемпіонату світу¶\n",
    "Тепер ми розглянемо набір даних, який показує обмеження z-оцінки і чому модифікована z-оцінка може бути корисною.\n",
    "\n",
    "Ми розглянемо кількість голів, забитих кращим бомбардиром на кожному Чемпіонаті світу з 1930 по 2018 рік (загалом 21 змагання). Необроблені дані звідси:\n",
    "\n",
    "https://en.wikipedia.org/wiki/FIFA_World_Cup_part_ratecorers\n",
    "\n",
    "Дані були очищені та збережені як CSV. \n",
    "#### Завантажте його як датафрейм і подивіться."
   ]
  },
  {
   "cell_type": "code",
   "execution_count": null,
   "id": "63c4c750",
   "metadata": {},
   "outputs": [
    {
     "data": {
      "text/html": [
       "<div>\n",
       "<style scoped>\n",
       "    .dataframe tbody tr th:only-of-type {\n",
       "        vertical-align: middle;\n",
       "    }\n",
       "\n",
       "    .dataframe tbody tr th {\n",
       "        vertical-align: top;\n",
       "    }\n",
       "\n",
       "    .dataframe thead th {\n",
       "        text-align: right;\n",
       "    }\n",
       "</style>\n",
       "<table border=\"1\" class=\"dataframe\">\n",
       "  <thead>\n",
       "    <tr style=\"text-align: right;\">\n",
       "      <th></th>\n",
       "      <th>Year</th>\n",
       "      <th>Player(s)</th>\n",
       "      <th>Goals</th>\n",
       "    </tr>\n",
       "  </thead>\n",
       "  <tbody>\n",
       "    <tr>\n",
       "      <th>0</th>\n",
       "      <td>1930</td>\n",
       "      <td>Guillermo Stábile</td>\n",
       "      <td>8</td>\n",
       "    </tr>\n",
       "    <tr>\n",
       "      <th>1</th>\n",
       "      <td>1934</td>\n",
       "      <td>Oldřich Nejedlý</td>\n",
       "      <td>5</td>\n",
       "    </tr>\n",
       "    <tr>\n",
       "      <th>2</th>\n",
       "      <td>1938</td>\n",
       "      <td>Leônidas</td>\n",
       "      <td>7</td>\n",
       "    </tr>\n",
       "    <tr>\n",
       "      <th>3</th>\n",
       "      <td>1950</td>\n",
       "      <td>Ademir</td>\n",
       "      <td>8</td>\n",
       "    </tr>\n",
       "    <tr>\n",
       "      <th>4</th>\n",
       "      <td>1954</td>\n",
       "      <td>Sándor Kocsis</td>\n",
       "      <td>11</td>\n",
       "    </tr>\n",
       "    <tr>\n",
       "      <th>5</th>\n",
       "      <td>1958</td>\n",
       "      <td>Just Fontaine</td>\n",
       "      <td>13</td>\n",
       "    </tr>\n",
       "    <tr>\n",
       "      <th>6</th>\n",
       "      <td>1962</td>\n",
       "      <td>Garrincha, Vavá, Leonel Sánchez, Flórián Alber...</td>\n",
       "      <td>4</td>\n",
       "    </tr>\n",
       "    <tr>\n",
       "      <th>7</th>\n",
       "      <td>1966</td>\n",
       "      <td>Eusébio</td>\n",
       "      <td>9</td>\n",
       "    </tr>\n",
       "    <tr>\n",
       "      <th>8</th>\n",
       "      <td>1970</td>\n",
       "      <td>Gerd Müller</td>\n",
       "      <td>10</td>\n",
       "    </tr>\n",
       "    <tr>\n",
       "      <th>9</th>\n",
       "      <td>1974</td>\n",
       "      <td>Grzegorz Lato</td>\n",
       "      <td>7</td>\n",
       "    </tr>\n",
       "    <tr>\n",
       "      <th>10</th>\n",
       "      <td>1978</td>\n",
       "      <td>Mario Kempes</td>\n",
       "      <td>6</td>\n",
       "    </tr>\n",
       "    <tr>\n",
       "      <th>11</th>\n",
       "      <td>1982</td>\n",
       "      <td>Paolo Rossi</td>\n",
       "      <td>6</td>\n",
       "    </tr>\n",
       "    <tr>\n",
       "      <th>12</th>\n",
       "      <td>1986</td>\n",
       "      <td>Gary Lineker</td>\n",
       "      <td>6</td>\n",
       "    </tr>\n",
       "    <tr>\n",
       "      <th>13</th>\n",
       "      <td>1990</td>\n",
       "      <td>Salvatore Schillaci</td>\n",
       "      <td>6</td>\n",
       "    </tr>\n",
       "    <tr>\n",
       "      <th>14</th>\n",
       "      <td>1994</td>\n",
       "      <td>Hristo Stoichkov, Oleg Salenko</td>\n",
       "      <td>6</td>\n",
       "    </tr>\n",
       "    <tr>\n",
       "      <th>15</th>\n",
       "      <td>1998</td>\n",
       "      <td>Davor Šuker</td>\n",
       "      <td>6</td>\n",
       "    </tr>\n",
       "    <tr>\n",
       "      <th>16</th>\n",
       "      <td>2002</td>\n",
       "      <td>Ronaldo</td>\n",
       "      <td>8</td>\n",
       "    </tr>\n",
       "    <tr>\n",
       "      <th>17</th>\n",
       "      <td>2006</td>\n",
       "      <td>Miroslav Klose</td>\n",
       "      <td>5</td>\n",
       "    </tr>\n",
       "    <tr>\n",
       "      <th>18</th>\n",
       "      <td>2010</td>\n",
       "      <td>Thomas Müller, David Villa, Wesley Sneijder, D...</td>\n",
       "      <td>5</td>\n",
       "    </tr>\n",
       "    <tr>\n",
       "      <th>19</th>\n",
       "      <td>2014</td>\n",
       "      <td>James Rodríguez</td>\n",
       "      <td>6</td>\n",
       "    </tr>\n",
       "    <tr>\n",
       "      <th>20</th>\n",
       "      <td>2018</td>\n",
       "      <td>Harry Kane</td>\n",
       "      <td>6</td>\n",
       "    </tr>\n",
       "  </tbody>\n",
       "</table>\n",
       "</div>"
      ],
      "text/plain": [
       "    Year                                          Player(s)  Goals\n",
       "0   1930                                  Guillermo Stábile      8\n",
       "1   1934                                    Oldřich Nejedlý      5\n",
       "2   1938                                           Leônidas      7\n",
       "3   1950                                             Ademir      8\n",
       "4   1954                                      Sándor Kocsis     11\n",
       "5   1958                                      Just Fontaine     13\n",
       "6   1962  Garrincha, Vavá, Leonel Sánchez, Flórián Alber...      4\n",
       "7   1966                                            Eusébio      9\n",
       "8   1970                                        Gerd Müller     10\n",
       "9   1974                                      Grzegorz Lato      7\n",
       "10  1978                                       Mario Kempes      6\n",
       "11  1982                                        Paolo Rossi      6\n",
       "12  1986                                       Gary Lineker      6\n",
       "13  1990                                Salvatore Schillaci      6\n",
       "14  1994                     Hristo Stoichkov, Oleg Salenko      6\n",
       "15  1998                                        Davor Šuker      6\n",
       "16  2002                                            Ronaldo      8\n",
       "17  2006                                     Miroslav Klose      5\n",
       "18  2010  Thomas Müller, David Villa, Wesley Sneijder, D...      5\n",
       "19  2014                                    James Rodríguez      6\n",
       "20  2018                                         Harry Kane      6"
      ]
     },
     "execution_count": 11,
     "metadata": {},
     "output_type": "execute_result"
    }
   ],
   "source": [
    "# Перший рядок – це рядок заголовка, але імена заголовків громіздкі.\n",
    "# Пропустіть перший рядок (skiprows=1) і позначте вручну\n",
    "# Кодування гарантує правильне відображення наголосів у самих іменах футболістів \n",
    "top_goals = pd.read_csv('world_cup_top_goal_scorers.csv', \n",
    "                        encoding='utf-8',  \n",
    "                        names=['Year', 'Player(s)', 'Goals'], skiprows=1)                                                                                \n",
    "top_goals.head()"
   ]
  },
  {
   "cell_type": "markdown",
   "id": "ed896635",
   "metadata": {},
   "source": [
    "Знову використаємо z-оцінку для виявлення аномалій. Оскільки нас цікавлять суперзірки, цього разу у нас буде верхній поріг. Обираємо 𝑧=+2. Вище цієї z-оцінки будь-який гравець буде позначений як аномалія.\n",
    "\n",
    "Як і раніше, ми обчислюємо середнє значення та стандартне відхилення."
   ]
  },
  {
   "cell_type": "code",
   "execution_count": 12,
   "id": "46e61906",
   "metadata": {},
   "outputs": [
    {
     "name": "stdout",
     "output_type": "stream",
     "text": [
      "Mean number of goals is 7.05\n",
      "Standard deviation is 2.15\n"
     ]
    }
   ],
   "source": [
    "mean_goals = top_goals['Goals'].mean()\n",
    "stdev_goals = top_goals['Goals'].std(ddof=0)\n",
    "print('Mean number of goals is {:.2f}'.format(mean_goals))\n",
    "print('Standard deviation is {:.2f}'.format(stdev_goals))"
   ]
  },
  {
   "cell_type": "markdown",
   "id": "a4c95825",
   "metadata": {},
   "source": [
    "#### Обчисліть z-оцінку для кожного гравця та додайте результат до набору даних."
   ]
  },
  {
   "cell_type": "code",
   "execution_count": 13,
   "id": "2c30316c",
   "metadata": {},
   "outputs": [
    {
     "data": {
      "text/html": [
       "<div>\n",
       "<style scoped>\n",
       "    .dataframe tbody tr th:only-of-type {\n",
       "        vertical-align: middle;\n",
       "    }\n",
       "\n",
       "    .dataframe tbody tr th {\n",
       "        vertical-align: top;\n",
       "    }\n",
       "\n",
       "    .dataframe thead th {\n",
       "        text-align: right;\n",
       "    }\n",
       "</style>\n",
       "<table border=\"1\" class=\"dataframe\">\n",
       "  <thead>\n",
       "    <tr style=\"text-align: right;\">\n",
       "      <th></th>\n",
       "      <th>Year</th>\n",
       "      <th>Player(s)</th>\n",
       "      <th>Goals</th>\n",
       "      <th>zscore</th>\n",
       "    </tr>\n",
       "  </thead>\n",
       "  <tbody>\n",
       "    <tr>\n",
       "      <th>0</th>\n",
       "      <td>1930</td>\n",
       "      <td>Guillermo Stábile</td>\n",
       "      <td>8</td>\n",
       "      <td>0.443242</td>\n",
       "    </tr>\n",
       "    <tr>\n",
       "      <th>1</th>\n",
       "      <td>1934</td>\n",
       "      <td>Oldřich Nejedlý</td>\n",
       "      <td>5</td>\n",
       "      <td>-0.952971</td>\n",
       "    </tr>\n",
       "    <tr>\n",
       "      <th>2</th>\n",
       "      <td>1938</td>\n",
       "      <td>Leônidas</td>\n",
       "      <td>7</td>\n",
       "      <td>-0.022162</td>\n",
       "    </tr>\n",
       "    <tr>\n",
       "      <th>3</th>\n",
       "      <td>1950</td>\n",
       "      <td>Ademir</td>\n",
       "      <td>8</td>\n",
       "      <td>0.443242</td>\n",
       "    </tr>\n",
       "    <tr>\n",
       "      <th>4</th>\n",
       "      <td>1954</td>\n",
       "      <td>Sándor Kocsis</td>\n",
       "      <td>11</td>\n",
       "      <td>1.839455</td>\n",
       "    </tr>\n",
       "    <tr>\n",
       "      <th>5</th>\n",
       "      <td>1958</td>\n",
       "      <td>Just Fontaine</td>\n",
       "      <td>13</td>\n",
       "      <td>2.770264</td>\n",
       "    </tr>\n",
       "    <tr>\n",
       "      <th>6</th>\n",
       "      <td>1962</td>\n",
       "      <td>Garrincha, Vavá, Leonel Sánchez, Flórián Alber...</td>\n",
       "      <td>4</td>\n",
       "      <td>-1.418375</td>\n",
       "    </tr>\n",
       "    <tr>\n",
       "      <th>7</th>\n",
       "      <td>1966</td>\n",
       "      <td>Eusébio</td>\n",
       "      <td>9</td>\n",
       "      <td>0.908647</td>\n",
       "    </tr>\n",
       "    <tr>\n",
       "      <th>8</th>\n",
       "      <td>1970</td>\n",
       "      <td>Gerd Müller</td>\n",
       "      <td>10</td>\n",
       "      <td>1.374051</td>\n",
       "    </tr>\n",
       "    <tr>\n",
       "      <th>9</th>\n",
       "      <td>1974</td>\n",
       "      <td>Grzegorz Lato</td>\n",
       "      <td>7</td>\n",
       "      <td>-0.022162</td>\n",
       "    </tr>\n",
       "    <tr>\n",
       "      <th>10</th>\n",
       "      <td>1978</td>\n",
       "      <td>Mario Kempes</td>\n",
       "      <td>6</td>\n",
       "      <td>-0.487566</td>\n",
       "    </tr>\n",
       "    <tr>\n",
       "      <th>11</th>\n",
       "      <td>1982</td>\n",
       "      <td>Paolo Rossi</td>\n",
       "      <td>6</td>\n",
       "      <td>-0.487566</td>\n",
       "    </tr>\n",
       "    <tr>\n",
       "      <th>12</th>\n",
       "      <td>1986</td>\n",
       "      <td>Gary Lineker</td>\n",
       "      <td>6</td>\n",
       "      <td>-0.487566</td>\n",
       "    </tr>\n",
       "    <tr>\n",
       "      <th>13</th>\n",
       "      <td>1990</td>\n",
       "      <td>Salvatore Schillaci</td>\n",
       "      <td>6</td>\n",
       "      <td>-0.487566</td>\n",
       "    </tr>\n",
       "    <tr>\n",
       "      <th>14</th>\n",
       "      <td>1994</td>\n",
       "      <td>Hristo Stoichkov, Oleg Salenko</td>\n",
       "      <td>6</td>\n",
       "      <td>-0.487566</td>\n",
       "    </tr>\n",
       "    <tr>\n",
       "      <th>15</th>\n",
       "      <td>1998</td>\n",
       "      <td>Davor Šuker</td>\n",
       "      <td>6</td>\n",
       "      <td>-0.487566</td>\n",
       "    </tr>\n",
       "    <tr>\n",
       "      <th>16</th>\n",
       "      <td>2002</td>\n",
       "      <td>Ronaldo</td>\n",
       "      <td>8</td>\n",
       "      <td>0.443242</td>\n",
       "    </tr>\n",
       "    <tr>\n",
       "      <th>17</th>\n",
       "      <td>2006</td>\n",
       "      <td>Miroslav Klose</td>\n",
       "      <td>5</td>\n",
       "      <td>-0.952971</td>\n",
       "    </tr>\n",
       "    <tr>\n",
       "      <th>18</th>\n",
       "      <td>2010</td>\n",
       "      <td>Thomas Müller, David Villa, Wesley Sneijder, D...</td>\n",
       "      <td>5</td>\n",
       "      <td>-0.952971</td>\n",
       "    </tr>\n",
       "    <tr>\n",
       "      <th>19</th>\n",
       "      <td>2014</td>\n",
       "      <td>James Rodríguez</td>\n",
       "      <td>6</td>\n",
       "      <td>-0.487566</td>\n",
       "    </tr>\n",
       "    <tr>\n",
       "      <th>20</th>\n",
       "      <td>2018</td>\n",
       "      <td>Harry Kane</td>\n",
       "      <td>6</td>\n",
       "      <td>-0.487566</td>\n",
       "    </tr>\n",
       "  </tbody>\n",
       "</table>\n",
       "</div>"
      ],
      "text/plain": [
       "    Year                                          Player(s)  Goals    zscore\n",
       "0   1930                                  Guillermo Stábile      8  0.443242\n",
       "1   1934                                    Oldřich Nejedlý      5 -0.952971\n",
       "2   1938                                           Leônidas      7 -0.022162\n",
       "3   1950                                             Ademir      8  0.443242\n",
       "4   1954                                      Sándor Kocsis     11  1.839455\n",
       "5   1958                                      Just Fontaine     13  2.770264\n",
       "6   1962  Garrincha, Vavá, Leonel Sánchez, Flórián Alber...      4 -1.418375\n",
       "7   1966                                            Eusébio      9  0.908647\n",
       "8   1970                                        Gerd Müller     10  1.374051\n",
       "9   1974                                      Grzegorz Lato      7 -0.022162\n",
       "10  1978                                       Mario Kempes      6 -0.487566\n",
       "11  1982                                        Paolo Rossi      6 -0.487566\n",
       "12  1986                                       Gary Lineker      6 -0.487566\n",
       "13  1990                                Salvatore Schillaci      6 -0.487566\n",
       "14  1994                     Hristo Stoichkov, Oleg Salenko      6 -0.487566\n",
       "15  1998                                        Davor Šuker      6 -0.487566\n",
       "16  2002                                            Ronaldo      8  0.443242\n",
       "17  2006                                     Miroslav Klose      5 -0.952971\n",
       "18  2010  Thomas Müller, David Villa, Wesley Sneijder, D...      5 -0.952971\n",
       "19  2014                                    James Rodríguez      6 -0.487566\n",
       "20  2018                                         Harry Kane      6 -0.487566"
      ]
     },
     "execution_count": 13,
     "metadata": {},
     "output_type": "execute_result"
    }
   ],
   "source": [
    "zscore_goals = ss.zscore(top_goals['Goals'], ddof=0)\n",
    "top_goals = top_goals.assign(zscore=zscore_goals)\n",
    "top_goals.head(21)"
   ]
  },
  {
   "cell_type": "markdown",
   "id": "63424841",
   "metadata": {},
   "source": [
    "#### Тепер змініть попередню функцію побудови для відображення результатів."
   ]
  },
  {
   "cell_type": "code",
   "execution_count": 14,
   "id": "1ac9d3f6",
   "metadata": {},
   "outputs": [],
   "source": [
    "def plot_anomaly_goals(score_data, threshold):\n",
    "    score_data = score_data.copy().sort_values(ascending=False).values\n",
    "    ranks = np.linspace(1, len(score_data), len(score_data))\n",
    "    mask_outlier = (score_data > threshold)\n",
    "    \n",
    "    plt.figure(dpi=100)\n",
    "    plt.plot(ranks[mask_outlier], score_data[mask_outlier], 'o', color='r', label='anomalies')\n",
    "    plt.plot(ranks[~mask_outlier], score_data[~mask_outlier], 'o', color='b', label='typical player')\n",
    "    plt.axhline(threshold,color='r', label='threshold', alpha=0.5)\n",
    "    plt.legend(loc='upper right')\n",
    "    plt.title('Z-score vs. player', fontweight='bold')\n",
    "    plt.xticks(np.arange(0, 21, step=2.0))\n",
    "    plt.xlabel('Player Rank')\n",
    "    plt.ylabel('Z-score')\n",
    "    plt.show()"
   ]
  },
  {
   "cell_type": "code",
   "execution_count": 15,
   "id": "56c15113",
   "metadata": {},
   "outputs": [
    {
     "data": {
      "image/png": "[encoded data removed]",
      "text/plain": [
       "<Figure size 960x720 with 1 Axes>"
      ]
     },
     "metadata": {},
     "output_type": "display_data"
    }
   ],
   "source": [
    "plot_anomaly_goals(top_goals['zscore'], 2)"
   ]
  },
  {
   "cell_type": "markdown",
   "id": "fd20687b",
   "metadata": {},
   "source": [
    "Вибирається лише один гравець: Джаст Фонтейн."
   ]
  },
  {
   "cell_type": "code",
   "execution_count": 16,
   "id": "288fe8ee",
   "metadata": {},
   "outputs": [
    {
     "data": {
      "text/html": [
       "<div>\n",
       "<style scoped>\n",
       "    .dataframe tbody tr th:only-of-type {\n",
       "        vertical-align: middle;\n",
       "    }\n",
       "\n",
       "    .dataframe tbody tr th {\n",
       "        vertical-align: top;\n",
       "    }\n",
       "\n",
       "    .dataframe thead th {\n",
       "        text-align: right;\n",
       "    }\n",
       "</style>\n",
       "<table border=\"1\" class=\"dataframe\">\n",
       "  <thead>\n",
       "    <tr style=\"text-align: right;\">\n",
       "      <th></th>\n",
       "      <th>Year</th>\n",
       "      <th>Player(s)</th>\n",
       "      <th>Goals</th>\n",
       "      <th>zscore</th>\n",
       "    </tr>\n",
       "  </thead>\n",
       "  <tbody>\n",
       "    <tr>\n",
       "      <th>5</th>\n",
       "      <td>1958</td>\n",
       "      <td>Just Fontaine</td>\n",
       "      <td>13</td>\n",
       "      <td>2.770264</td>\n",
       "    </tr>\n",
       "  </tbody>\n",
       "</table>\n",
       "</div>"
      ],
      "text/plain": [
       "   Year      Player(s)  Goals    zscore\n",
       "5  1958  Just Fontaine     13  2.770264"
      ]
     },
     "execution_count": 16,
     "metadata": {},
     "output_type": "execute_result"
    }
   ],
   "source": [
    "zscore_anomalies_players = top_goals[(top_goals['zscore'] > 2)]\n",
    "zscore_anomalies_players"
   ]
  },
  {
   "cell_type": "markdown",
   "id": "7c55dcd4",
   "metadata": {},
   "source": [
    "Фонтейн справді був чудовим гравцем, але очевидно, що наш аналіз помилковий. Дивлячись на графік, ми бачимо, що у 12 із 21 змагань найкращий бомбардир(и) забили менше, ніж середня кількість голів (7,05).\n",
    "\n",
    "Питання: Що відбувається?\n",
    "\n",
    "Відповідь: ми бачимо ефект, який ми обговорювали на лекціях --- середнє значення та стандартне відхилення самі по собі чутливі до наявності аномалій. Завдяки своїм 13 голам дивовижний Фонтейн настільки підвищує середнє значення, що більшість гравців опускається нижче. В результаті він стає єдиною аномалією.\n",
    "\n",
    "#### Давайте повторимо цей аналіз із зміненим z-показником і подивимося, що станеться."
   ]
  },
  {
   "cell_type": "code",
   "execution_count": 17,
   "id": "cd2fa301",
   "metadata": {},
   "outputs": [
    {
     "data": {
      "text/plain": [
       "6.0"
      ]
     },
     "execution_count": 17,
     "metadata": {},
     "output_type": "execute_result"
    }
   ],
   "source": [
    "median_goals = np.median(top_goals['Goals'])\n",
    "median_goals"
   ]
  },
  {
   "cell_type": "markdown",
   "id": "718462d6",
   "metadata": {},
   "source": [
    "Зауважте, що медіана (6,0) нижча за середнє значення (7,05), як і очікувалося на графіку.\n",
    "\n",
    "Тепер обчисліть модифікований z-показник. Згадайте, що на лекціях це було визначено для кожної точки даних 𝑥𝑖 наступним чином:\n",
    "\n",
    "𝑦𝑖=(𝑥𝑖−𝑋̃ )/МАD\n",
    "\n",
    "де 𝑋̃ — медіана даних, а MAD — медіана абсолютного відхилення від медіани.\n",
    "\n",
    "Тут ми внесемо невелику модифікацію та введемо поправку узгодженості 𝑘, яка дозволить нам використовувати MAD як узгоджену оцінку для стандартного відхилення. Значення 𝑘\n",
    "  залежить від основного розподілу даних. Для простоти ми будемо використовувати значення для нормального розподілу 𝑘=1,4826\n",
    "  (див.https://uk.wikipedia.org/wiki/%D0%9C%D0%B5%D0%B4%D1%96%D0%B0%D0%BD%D0%B0_%D0%B0%D0%B1%D1%81%D0%BE%D0%BB%D1%8E%D1%82%D0%BD%D0%B8%D1%85_%D0%B2%D1%96%D0%B4%D1%85%D0%B8%D0%BB%D0%B5%D0%BD%D1%8C\n",
    "  \n",
    "  https://en.wikipedia.org/wiki/Median_absolute_deviation).\n",
    "\n",
    "Примітка. Коригувальний коефіцієнт 𝑘=1,4826 передбачає, що базові дані є нормальними!\n",
    "\n",
    "Отже, модифікована z-оцінка стає\n",
    "\n",
    "𝑦𝑖=(𝑥𝑖−𝑋̃ )/(𝑘∗MAD)\n",
    "\n",
    "і це форма, яку ми будемо використовувати у функції нижче."
   ]
  },
  {
   "cell_type": "code",
   "execution_count": 18,
   "id": "fda9bb73",
   "metadata": {},
   "outputs": [],
   "source": [
    "def modified_zscore(data, consistency_correction=1.4826):\n",
    "    \"\"\"\n",
    "    Повертає модифікований z-оцінку та середнє абсолютне відхилення (MAD) із оцінок у даних.\n",
    "     Коефіцієнт поправки консистенції перетворює MAD на стандартне відхилення для даного розподілу. \n",
    "     Значення за замовчуванням (1,4826) є коефіцієнтом перетворення, якщо базові дані розподілені нормально\n",
    "    \"\"\"\n",
    "    median = np.median(data)\n",
    "    \n",
    "    deviation_from_med = np.array(data) - median\n",
    "\n",
    "    mad = np.median(np.abs(deviation_from_med))\n",
    "    mod_zscore = deviation_from_med/(consistency_correction*mad)\n",
    "    return mod_zscore, mad"
   ]
  },
  {
   "cell_type": "markdown",
   "id": "1ef9b084",
   "metadata": {},
   "source": [
    "#### Як і раніше, обчисліть модифікований z-рахунок для всіх гравців, а потім побудуйте та перелічіть результати. Зауважте, що поріг залишається незмінним і становить 𝑦=+2."
   ]
  },
  {
   "cell_type": "code",
   "execution_count": 19,
   "id": "3f424f4d",
   "metadata": {},
   "outputs": [],
   "source": [
    "mod_zscore_goals, mad_goals = modified_zscore(top_goals['Goals'])\n",
    "top_goals = top_goals.assign(mod_zscore=mod_zscore_goals)"
   ]
  },
  {
   "cell_type": "code",
   "execution_count": 20,
   "id": "4a89d180",
   "metadata": {},
   "outputs": [],
   "source": [
    "def plot_anomaly_goals_2(score_data, threshold):\n",
    "    score_data = score_data.copy().sort_values(ascending=False).values\n",
    "    ranks = np.linspace(1, len(score_data), len(score_data))\n",
    "    mask_outliers = (score_data > threshold)\n",
    "    \n",
    "    plt.figure(dpi=100)\n",
    "    plt.plot(ranks[mask_outliers], score_data[mask_outliers],'o', color='r',label='anomalies')\n",
    "    plt.plot(ranks[~mask_outliers], score_data[~mask_outliers],'o', color='b', label='typical player')\n",
    "    plt.axhline(threshold,color='r',label='threshold', alpha=0.5)\n",
    "    plt.legend(loc = 'upper right')\n",
    "    plt.title('Modified z-score vs. player', fontweight='bold')\n",
    "    plt.xticks(np.arange(0, 21, step=2.0))\n",
    "    plt.xlabel('Player')\n",
    "    plt.ylabel('Modified z-score')\n",
    "    plt.show()"
   ]
  },
  {
   "cell_type": "code",
   "execution_count": 21,
   "id": "553a52b3",
   "metadata": {},
   "outputs": [
    {
     "data": {
      "image/png": "[encoded data removed]",
      "text/plain": [
       "<Figure size 960x720 with 1 Axes>"
      ]
     },
     "metadata": {},
     "output_type": "display_data"
    }
   ],
   "source": [
    "plot_anomaly_goals_2(top_goals['mod_zscore'], 2)"
   ]
  },
  {
   "cell_type": "code",
   "execution_count": 22,
   "id": "6cc31597",
   "metadata": {},
   "outputs": [
    {
     "data": {
      "text/html": [
       "<div>\n",
       "<style scoped>\n",
       "    .dataframe tbody tr th:only-of-type {\n",
       "        vertical-align: middle;\n",
       "    }\n",
       "\n",
       "    .dataframe tbody tr th {\n",
       "        vertical-align: top;\n",
       "    }\n",
       "\n",
       "    .dataframe thead th {\n",
       "        text-align: right;\n",
       "    }\n",
       "</style>\n",
       "<table border=\"1\" class=\"dataframe\">\n",
       "  <thead>\n",
       "    <tr style=\"text-align: right;\">\n",
       "      <th></th>\n",
       "      <th>Year</th>\n",
       "      <th>Player(s)</th>\n",
       "      <th>Goals</th>\n",
       "      <th>zscore</th>\n",
       "      <th>mod_zscore</th>\n",
       "    </tr>\n",
       "  </thead>\n",
       "  <tbody>\n",
       "    <tr>\n",
       "      <th>4</th>\n",
       "      <td>1954</td>\n",
       "      <td>Sándor Kocsis</td>\n",
       "      <td>11</td>\n",
       "      <td>1.839455</td>\n",
       "      <td>3.372454</td>\n",
       "    </tr>\n",
       "    <tr>\n",
       "      <th>5</th>\n",
       "      <td>1958</td>\n",
       "      <td>Just Fontaine</td>\n",
       "      <td>13</td>\n",
       "      <td>2.770264</td>\n",
       "      <td>4.721435</td>\n",
       "    </tr>\n",
       "    <tr>\n",
       "      <th>7</th>\n",
       "      <td>1966</td>\n",
       "      <td>Eusébio</td>\n",
       "      <td>9</td>\n",
       "      <td>0.908647</td>\n",
       "      <td>2.023472</td>\n",
       "    </tr>\n",
       "    <tr>\n",
       "      <th>8</th>\n",
       "      <td>1970</td>\n",
       "      <td>Gerd Müller</td>\n",
       "      <td>10</td>\n",
       "      <td>1.374051</td>\n",
       "      <td>2.697963</td>\n",
       "    </tr>\n",
       "  </tbody>\n",
       "</table>\n",
       "</div>"
      ],
      "text/plain": [
       "   Year      Player(s)  Goals    zscore  mod_zscore\n",
       "4  1954  Sándor Kocsis     11  1.839455    3.372454\n",
       "5  1958  Just Fontaine     13  2.770264    4.721435\n",
       "7  1966        Eusébio      9  0.908647    2.023472\n",
       "8  1970    Gerd Müller     10  1.374051    2.697963"
      ]
     },
     "execution_count": 22,
     "metadata": {},
     "output_type": "execute_result"
    }
   ],
   "source": [
    "mod_zscore_anomalies_players = top_goals[(top_goals['mod_zscore'] > 2)]\n",
    "mod_zscore_anomalies_players"
   ]
  },
  {
   "cell_type": "markdown",
   "id": "4d8ee4d2",
   "metadata": {},
   "source": [
    "Тепер ми знаходимо чотирьох аномальних гравців.\n",
    "\n",
    "##### Запитання: Як MAD порівнюється зі стандартним відхиленням, розрахованим раніше?\n",
    "\n",
    "##### Відповідь:"
   ]
  },
  {
   "cell_type": "code",
   "execution_count": 23,
   "id": "651d5b04",
   "metadata": {},
   "outputs": [
    {
     "name": "stdout",
     "output_type": "stream",
     "text": [
      "The value of MAD is 1.00\n",
      "Standard deviation is 2.15\n"
     ]
    }
   ],
   "source": [
    "print('The value of MAD is {:.2f}'.format(mad_goals))\n",
    "print('Standard deviation is {:.2f}'.format(stdev_goals))"
   ]
  },
  {
   "cell_type": "markdown",
   "id": "4e180cee",
   "metadata": {},
   "source": [
    "Видно, що 𝑘∗MAD = 1,48, що менше, ніж стандартне відхилення (2,15). Ми бачимо, що аномалії мають більший вплив на стандартне відхилення, яке залежить від квадрата відхилення від середнього (MAD лінійно залежить від відхилення).\n",
    "\n",
    "Звичайно, дані про найкращих бомбардирів розподіляються ненормально, тому ми не можемо пов’язати ймовірності з нашими результатами, але наш аналіз показує, що потрібно подумати про метод оцінки, який використовується з даними."
   ]
  },
  {
   "cell_type": "markdown",
   "id": "c1df4a4c",
   "metadata": {},
   "source": [
    "# Ітераційне застосування тесту Граббса для кількох викидів:\n",
    "Тест Ґраббса призначений для перевірки одного викиду за раз у нормально розподілених наборах даних. Це означає, що якщо в наборі даних є більше одного викиду, тест Ґраббса визначить лише найбільш екстремальний.\n",
    "\n",
    "Якщо ви підозрюєте, що у вашому наборі даних може бути кілька викидів, ви можете повторно застосувати тест Граббса. На кожній ітерації ви видаляєте найбільший викид, виявлений тестом (за умови, що тест вказує, що це справді викид), а потім повторно застосовуєте тест до решти даних. Цей процес можна продовжувати, доки не буде виявлено подальших викидів.\n",
    "\n",
    "Однак майте на увазі, що ця ітераційна процедура може збільшити ймовірність помилки типу I (хибні спрацьовування), особливо якщо набір даних великий або якщо кількість справжніх викидів невелика. Це пояснюється тим, що чим більше тестів ви виконуєте, тим більша ймовірність того, що ви випадково знайдете «викид». Тому, якщо ви плануєте використовувати тест Ґраббса ітеративно, важливо використовувати відповідний метод для контролю частоти помилок на основі сімейства, наприклад поправку Бонферроні."
   ]
  },
  {
   "cell_type": "markdown",
   "id": "b40db361",
   "metadata": {},
   "source": [
    "# Тест Граббса для виявлення викидів\n",
    "Тест Ґраббса — це статистичний тест, який використовується для виявлення викидів в одновимірному наборі даних, який, як припускається, походить від нормально розподіленої сукупності.\n",
    "\n",
    "Тест працює шляхом обчислення статистики (G), яка базується на вибірковому середньому, вибірковому стандартному відхиленні та абсолютній різниці між вибірковим середнім значенням і кожним окремим спостереженням. Спостереження, що відповідає максимальному (G) значенню, є потенційним викидом.\n",
    "\n",
    "Формула статистики Граббса така:\n",
    "\n",
    "\n",
    "$$\n",
    "G = \\frac{{\\max_{i=1}^n |Y_i - \\bar{Y}|}}{s}\n",
    "$$\n",
    " \n",
    "де:\n",
    "\n",
    "$Y_i$ є i-м спостереженням,\n",
    "- $\\bar{Y}$ вибіркове середнє,\n",
    "- $s$ стандартне відхилення вибірки,\n",
    "- $n$  – кількість спостережень.\n",
    "   \n",
    "  \n",
    "Нульова гіпотеза полягає в тому, що в наборі даних немає викидів. Велике значення (G) свідчить про те, що відповідне спостереження є викидом. Тест зазвичай виконується на рівні значущості 0,05, що означає, що нульову гіпотезу відхиляють (і спостереження оголошують викидом), якщо р-значення тесту менше 0,05.\n",
    "\n",
    "Ось покроковий процес:\n",
    "\n",
    "Обчисліть вибіркове середнє та стандартне відхилення. За вибіркою з n спостережень обчисліть вибіркове середнє (середнє) і стандартне відхилення вибірки. Середнє значення вибірки розраховується як:\n",
    "\n",
    "$$\n",
    "   \\bar{Y} = \\frac{1}{n} \\sum_{i=1}^{n} Y_i\n",
    "   $$\n",
    " \n",
    "стандартне відхилення вибірки обчислюється як:\n",
    "\n",
    "$$\n",
    "   s = \\sqrt{\\frac{1}{n-1} \\sum_{i=1}^{n} (Y_i - \\bar{Y})^2}\n",
    "   $$\n",
    " \n",
    "де 𝑌𝑖\n",
    "   є i-м спостереженням.\n",
    "\n",
    "Обчисліть абсолютне відхилення кожного спостереження від середнього значення вибірки. За кожне спостереження 𝑌𝑖\n",
    "  , обчислити абсолютне відхилення від вибіркового середнього,  $|Y_i - \\bar{Y}|$.\n",
    "\n",
    "Обчисліть статистику Граббса. Статистика Граббса, G, є максимальним абсолютним відхиленням, поділеним на стандартне відхилення вибірки:\n",
    "\n",
    "$$\n",
    "   G = \\frac{{\\max_{i=1}^n |Y_i - \\bar{Y}|}}{s}\n",
    "   $$\n",
    " \n",
    "Обчисліть критичне значення. Критичне значення обчислюється з t-розподілу з 𝑛−2\n",
    "   ступенів свободи та рівень значущості 𝛼/𝑛\n",
    "  . Формула така:\n",
    "\n",
    " $$\n",
    "   G_{crit} = \\frac{(n-1)\\sqrt{t_{\\alpha/(2n), n-2}^2}}{\\sqrt{n(t_{\\alpha/(2n), n-2}^2 + n - 2)}}\n",
    "   $$\n",
    " \n",
    "де 𝑡𝛼/(2𝑛),𝑛−2\n",
    "   є критичним значенням t-розподілу з 𝑛−2\n",
    "   ступенів свободи та рівень значущості 𝛼/𝑛\n",
    "  .\n",
    "\n",
    "Порівняйте статистику Граббса з критичним значенням. Якщо 𝐺>𝐺𝑐𝑟𝑖𝑡\n",
    "  , тоді нульова гіпотеза про відсутність викидів відхиляється, а спостереження, яке відповідає максимальному абсолютному відхиленню, оголошується викидом.\n",
    "\n",
    "Припущення та обмеження\n",
    "Хоча тест Граббса є корисним інструментом для виявлення окремих викидів, він має свої обмеження:\n",
    "\n",
    "Тест передбачає, що дані розподілені нормально. Це припущення можна оцінити за допомогою тесту нормальності, такого як тест Шапіро-Вілка.\n",
    "Тест Граббса зазвичай перевіряє лише один викид за раз. Тест призначений для ітераційного використання, тестування та видалення одного викиду за раз. Однак майте на увазі, що кожного разу, коли ви використовуєте тест, ви фактично збільшуєте рівень альфа (тобто ймовірність помилки типу I). Тому будьте обережні, якщо плануєте використовувати тест Граббса ітеративно.\n",
    "Викиди слід видаляти, лише якщо їх можна об’єктивно та науково пояснити. Вони можуть виникати через помилки введення даних, помилки вимірювання або інші явища. Не видаляйте викиди лише для досягнення більш бажаного статистичного результату."
   ]
  },
  {
   "cell_type": "code",
   "execution_count": 24,
   "id": "e55c2780",
   "metadata": {},
   "outputs": [],
   "source": [
    "# Define Grubbs' Test function\n",
    "def grubbs_test(data, alpha=0.05):\n",
    "    n = len(data)\n",
    "    mean = np.mean(data)\n",
    "    std_dev = np.std(data)\n",
    "    z_scores = (data - mean) / std_dev\n",
    "    abs_z_scores = np.abs((data - mean) / std_dev)\n",
    "    max_z_score = np.max(abs_z_scores)\n",
    "    max_z_score_index = np.argmax(abs_z_scores)\n",
    "    \n",
    "    print(f\"Number of data points: {n}\")\n",
    "    print(f\"Mean of data: {mean}\")\n",
    "    print(f\"Standard Deviation of data: {std_dev}\")\n",
    "    print(\"\\nZ-Scores\")\n",
    "    print(z_scores)\n",
    "    print(f\"Max Absolute Z-Score: {max_z_score} located at index {max_z_score_index}\\n\")\n",
    "\n",
    "    # Calculate the Grubbs' Test statistic\n",
    "    G_calculated = (n-1) * np.sqrt(max_z_score**2 / (n-2+max_z_score**2))\n",
    "\n",
    "    # Look up the critical value of the Grubbs' Test statistic from the t-distribution\n",
    "    t_critical = ss.t.ppf(1 - alpha / (2*n), n-2)\n",
    "    G_critical = ((n-1) / np.sqrt(n)) * np.sqrt(t_critical**2 / (n-2 + t_critical**2))\n",
    "\n",
    "    # If the calculated test statistic is larger than the critical value, then reject the null hypothesis and mark the data point as an outlier\n",
    "    if G_calculated > G_critical:\n",
    "        print(f\"Outlier detected at index {max_z_score_index}.\")\n",
    "        outlier = True\n",
    "    else:\n",
    "        print(\"No outliers detected.\")\n",
    "        outlier = False\n",
    "\n",
    "    return max_z_score_index, outlier"
   ]
  },
  {
   "cell_type": "code",
   "execution_count": 25,
   "id": "c1e9637c",
   "metadata": {},
   "outputs": [
    {
     "name": "stdout",
     "output_type": "stream",
     "text": [
      "Number of data points: 21\n",
      "Mean of data: 7.0476190476190474\n",
      "Standard Deviation of data: 2.1486693662244725\n",
      "\n",
      "Z-Scores\n",
      "0     0.443242\n",
      "1    -0.952971\n",
      "2    -0.022162\n",
      "3     0.443242\n",
      "4     1.839455\n",
      "5     2.770264\n",
      "6    -1.418375\n",
      "7     0.908647\n",
      "8     1.374051\n",
      "9    -0.022162\n",
      "10   -0.487566\n",
      "11   -0.487566\n",
      "12   -0.487566\n",
      "13   -0.487566\n",
      "14   -0.487566\n",
      "15   -0.487566\n",
      "16    0.443242\n",
      "17   -0.952971\n",
      "18   -0.952971\n",
      "19   -0.487566\n",
      "20   -0.487566\n",
      "Name: Goals, dtype: float64\n",
      "Max Absolute Z-Score: 2.770263794862101 located at index 5\n",
      "\n",
      "Outlier detected at index 5.\n"
     ]
    }
   ],
   "source": [
    "# Call the Grubbs' Test function on our data\n",
    "outlier_index, is_outlier = grubbs_test(top_goals['Goals'])"
   ]
  },
  {
   "cell_type": "code",
   "execution_count": 26,
   "id": "c7d44eb9",
   "metadata": {},
   "outputs": [
    {
     "data": {
      "text/plain": [
       "Player(s)    Just Fontaine\n",
       "Goals                   13\n",
       "Name: 5, dtype: object"
      ]
     },
     "execution_count": 26,
     "metadata": {},
     "output_type": "execute_result"
    }
   ],
   "source": [
    "top_goals[['Player(s)','Goals']].iloc[outlier_index]"
   ]
  },
  {
   "cell_type": "markdown",
   "id": "e4977b59",
   "metadata": {},
   "source": [
    "Тест Грабса також знайшов аномальне значення для футболіста Just Fontaine"
   ]
  },
  {
   "cell_type": "code",
   "execution_count": 27,
   "id": "1923b380",
   "metadata": {},
   "outputs": [
    {
     "data": {
      "image/png": "[encoded data removed]",
      "text/plain": [
       "<Figure size 1000x600 with 1 Axes>"
      ]
     },
     "metadata": {},
     "output_type": "display_data"
    },
    {
     "data": {
      "image/png": "[encoded data removed]",
      "text/plain": [
       "<Figure size 1000x600 with 1 Axes>"
      ]
     },
     "metadata": {},
     "output_type": "display_data"
    }
   ],
   "source": [
    "# Create a scatter plot of the data\n",
    "plt.figure(figsize=(10, 6))\n",
    "plt.scatter(range(len(top_goals['Goals'])), top_goals['Goals'], color='blue', label='Data points')\n",
    "if is_outlier:\n",
    "    plt.scatter(outlier_index, top_goals['Goals'][outlier_index], color='red', label='Outlier')\n",
    "plt.axhline(y=np.mean(top_goals['Goals']), color='green', linestyle='-', label='Mean')\n",
    "plt.legend()\n",
    "plt.title('Data points and Outlier')\n",
    "plt.xlabel('Index')\n",
    "plt.ylabel('Кількість голів')\n",
    "plt.show()\n",
    "\n",
    "# Create a histogram of the data\n",
    "plt.figure(figsize=(10, 6))\n",
    "plt.hist(top_goals['Goals'], bins=20, color='blue', alpha=0.7, label='Data points')\n",
    "if is_outlier:\n",
    "    plt.axvline(x=top_goals['Goals'][outlier_index], color='red', linestyle='-', label='Outlier')\n",
    "plt.axvline(x=np.mean(top_goals['Goals']), color='green', linestyle='-', label='Mean')\n",
    "plt.legend()\n",
    "plt.title('Histogram and Outlier')\n",
    "plt.xlabel('Value')\n",
    "plt.ylabel('Кількість голів')\n",
    "plt.show()"
   ]
  },
  {
   "cell_type": "markdown",
   "id": "07683362",
   "metadata": {},
   "source": [
    "## Виявлення багатовимірних викидів за допомогою відстані Махаланобіса¶\n",
    "\n",
    "\n",
    "Відстань Махаланобіса — це міра відстані між точкою 𝑃\n",
    "   і множиною 𝐷\n",
    "  . Це багатовимірне узагальнення ідеї вимірювання кількості стандартних відхилень 𝑃\n",
    "   від середнього 𝐷\n",
    "  .\n",
    "\n",
    "За точкою 𝑃    з координатами $(x_1, x_2, ..., x_n)$    в 𝑛\n",
    "  -вимірному просторі, відстань Махаланобіса $D_M$    з 𝑃\n",
    "   до центру набору точок обчислюється як:\n",
    "\n",
    "$$\n",
    "D_M = \\sqrt{ (P - \\mu)^T \\Sigma^{-1} (P - \\mu) }\n",
    "$$\n",
    " \n",
    "де:\n",
    "\n",
    "𝑃\n",
    "   – точковий вектор,\n",
    "𝜇\n",
    "   – середній вектор розподілу,\n",
    "Σ\n",
    "   є коваріаційною матрицею розподілу, і\n",
    "𝑇\n",
    "   позначає матричне транспонування.\n",
    "Відстань Махаланобіса враховує кореляції набору даних і є масштабно-інваріантною. На відміну від евклідової відстані, вона враховує дисперсію та коваріацію кількох змінних.\n",
    "\n",
    "#### Тест на відстань Махаланобіса\n",
    "\n",
    "Відстань Махаланобіса можна використовувати в перевірці гіпотези, тесті відстані Махаланобіса, для виявлення багатофакторних викидів.\n",
    "\n",
    "Для точок вибірки розміру 𝑛 з 𝑝 ознаками (координатами) квадрат відстані Махаланобіса $D_M^2$\n",
    " відповідає розподілу хі-квадрат із 𝑝   ступенями свободи за нульовою гіпотезою, тобто точка відповідає розподілу. Отже, якщо обчислене $D_M^2$    перевищує критичне значення розподілу хі-квадрат для бажаного рівня значущості (наприклад, 0,05), ми відхиляємо нульову гіпотезу.\n",
    "\n",
    "Процедура перевірки гіпотези така:\n",
    "\n",
    "1. Обчисліть відстань Махаланобіса $D_M^2$ для відповідної точки.\n",
    "\n",
    "2. Визначте критичне значення хі-квадрат для 𝑝    ступені свободи та бажаний рівень значущості.\n",
    "\n",
    "3. Якщо $D_M^2$   > критичного значення,тоді  точка вважається викидом.\n",
    "\n",
    "Цей тест може бути дуже корисним на практиці для виявлення викидів у багатовимірних даних."
   ]
  },
  {
   "cell_type": "code",
   "execution_count": 28,
   "id": "12603b43",
   "metadata": {},
   "outputs": [],
   "source": [
    "from scipy.stats import chi2\n",
    "from sklearn.covariance import EmpiricalCovariance"
   ]
  },
  {
   "cell_type": "code",
   "execution_count": 29,
   "id": "73f20aa7",
   "metadata": {},
   "outputs": [
    {
     "name": "stdout",
     "output_type": "stream",
     "text": [
      "Data:\n",
      "     Price  Distance  Emission  Performance  Mileage\n",
      "0   100000     16000       300           60       76\n",
      "1   800000     60000       400           88       89\n",
      "2   650000    300000      1230           90       89\n",
      "3   700000     10000       300           87       57\n",
      "4   860000    252000       400           83       79\n",
      "5   730000    350000       104           81       84\n",
      "6   400000    260000       632           72       78\n",
      "7       20    260000      6302            2     2000\n",
      "8   870000    510000       221           91       99\n",
      "9   780000      2000       142           90       97\n",
      "10  400000      5000       267           93       99\n",
      "\n"
     ]
    }
   ],
   "source": [
    "# Визначте багатовимірні дані\n",
    "data = np.array([[100000, 16000, 300, 60, 76],\n",
    "                 [800000, 60000, 400, 88, 89],\n",
    "                 [650000, 300000, 1230, 90, 89],\n",
    "                 [700000, 10000, 300, 87, 57],\n",
    "                 [860000, 252000, 400, 83, 79],\n",
    "                 [730000, 350000, 104, 81, 84],\n",
    "                 [400000, 260000, 632, 72, 78],\n",
    "                 [20, 260000, 6302, 2, 2000],\n",
    "                 [870000, 510000, 221, 91, 99],\n",
    "                 [780000, 2000, 142, 90, 97],\n",
    "                 [400000, 5000, 267, 93, 99]])\n",
    "\n",
    "# Create a DataFrame\n",
    "columns = ['Price', 'Distance', 'Emission', 'Performance', 'Mileage']\n",
    "df = pd.DataFrame(data, columns=columns)\n",
    "\n",
    "print(f\"Data:\\n{df}\\n\")"
   ]
  },
  {
   "cell_type": "code",
   "execution_count": 30,
   "id": "bff96cea",
   "metadata": {},
   "outputs": [],
   "source": [
    "def calculateMahalanobis(data):\n",
    "    robust_cov = EmpiricalCovariance().fit(data)\n",
    "    m_dist = robust_cov.mahalanobis(data)\n",
    "    return m_dist"
   ]
  },
  {
   "cell_type": "code",
   "execution_count": null,
   "id": "f29ee3d9",
   "metadata": {},
   "outputs": [
    {
     "name": "stdout",
     "output_type": "stream",
     "text": [
      "Mahalanobis distances:\n",
      "[7.23782241 2.22109829 8.21440824 1.89413229 2.57169465 2.83641857\n",
      " 2.70941648 9.99763797 6.10733273 3.03153561 8.17850277]\n",
      "\n",
      "Threshold for outlier detection: 9.236356899781123\n",
      "\n",
      "Outliers:\n",
      "   Price  Distance  Emission  Performance  Mileage\n",
      "7     20    260000      6302            2     2000\n",
      "Data:\n",
      "     Price  Distance  Emission  Performance  Mileage  distance  outlier\n",
      "0   100000     16000       300           60       76  7.237822    False\n",
      "1   800000     60000       400           88       89  2.221098    False\n",
      "2   650000    300000      1230           90       89  8.214408    False\n",
      "3   700000     10000       300           87       57  1.894132    False\n",
      "4   860000    252000       400           83       79  2.571695    False\n",
      "5   730000    350000       104           81       84  2.836419    False\n",
      "6   400000    260000       632           72       78  2.709416    False\n",
      "7       20    260000      6302            2     2000  9.997638     True\n",
      "8   870000    510000       221           91       99  6.107333    False\n",
      "9   780000      2000       142           90       97  3.031536    False\n",
      "10  400000      5000       267           93       99  8.178503    False\n",
      "\n"
     ]
    }
   ],
   "source": [
    "# Обчисліть відстані Махаланобіса\n",
    "m_dist = calculateMahalanobis(df)\n",
    "\n",
    "print(f\"Відстані Махаланобіса:\\n{m_dist}\\n\")\n",
    "\n",
    "# Визначте рівень значущості для виявлення викидів\n",
    "alpha = 0.10\n",
    "\n",
    "# Cобчислити порогове значення (на основі розподілу хі-квадрат)\n",
    "thresh = chi2.ppf(1 - alpha, df=df.shape[1])\n",
    "\n",
    "print(f\"Поріг для виявлення викидів: {thresh}\\n\")\n",
    "\n",
    "# Виявлення викидів (де відстань Махаланобіса перевищує порогове значення)\n",
    "outliers = df[m_dist > thresh]\n",
    "df['distance'] = m_dist\n",
    "df['outlier'] = df['distance'] > thresh\n",
    "\n",
    "print(f\"Аномалії:\\n{outliers}\")\n",
    "\n",
    "print(f\"Дані:\\n{df}\\n\")"
   ]
  },
  {
   "cell_type": "markdown",
   "id": "492d4296",
   "metadata": {},
   "source": [
    "# Вправа №1¶\n",
    "Ця вправа стосується рівня участі в SAT.\n",
    "\n",
    "A. Повторіть аналіз, використовуючи модифіковану z-оцінку.\n",
    "\n",
    "Б. Повторіть аналіз, використовуючи тест Граббса. Застосуйте тест Граббса чотири рази, видаляючи на кожному кроці рядок даних з аномалією.\n",
    "\n",
    "С. Ви знаходите однакові аномалії? Порівняйте знайдені аномалії, які отрмали при застосуванні z-оцінки, модифікованої z-оцінки, тесту Граббса.\n",
    "\n",
    "D. Зробіть свої висновки.\n",
    "\n",
    "#### Розв'язок #1"
   ]
  },
  {
   "cell_type": "code",
   "execution_count": 1,
   "id": "285df810",
   "metadata": {},
   "outputs": [
    {
     "name": "stdout",
     "output_type": "stream",
     "text": [
      "Mean rates are 0.74\n",
      "Standard deviation is 0.14\n"
     ]
    },
    {
     "data": {
      "image/png": "[encoded data removed]",
      "text/plain": [
       "<Figure size 640x480 with 1 Axes>"
      ]
     },
     "metadata": {},
     "output_type": "display_data"
    },
    {
     "data": {
      "image/png": "[encoded data removed]",
      "text/plain": [
       "<Figure size 640x480 with 1 Axes>"
      ]
     },
     "metadata": {},
     "output_type": "display_data"
    }
   ],
   "source": [
    "import sys\n",
    "import scipy\n",
    "import scipy.stats as ss\n",
    "import numpy as np\n",
    "import matplotlib\n",
    "import matplotlib.pyplot as plt\n",
    "import pandas as pd\n",
    "import random\n",
    "\n",
    "part_rate = pd.read_csv('SAT_CT_District_Participation_2012.csv', \n",
    "                        encoding='utf-8',  \n",
    "                        names=['District', 'Participation Rate'], skiprows=1)                                                                                \n",
    "\n",
    "part_rate.head(129)\n",
    "\n",
    "mean_rates = part_rate['Participation Rate'].mean()\n",
    "stdev_rates = part_rate['Participation Rate'].std(ddof=0)\n",
    "print('Mean rates are {:.2f}'.format(mean_rates))\n",
    "print('Standard deviation is {:.2f}'.format(stdev_rates))\n",
    "\n",
    "zscore_rates = ss.zscore(part_rate['Participation Rate'], ddof=0)\n",
    "part_rate = part_rate.assign(zscore=zscore_rates)\n",
    "part_rate.head(129)\n",
    "\n",
    "def plot_anomaly_rates(score_data, threshold):\n",
    "    score_data = score_data.copy().sort_values(ascending=False).values\n",
    "    ranks = np.linspace(1, len(score_data), len(score_data))\n",
    "    mask_outliers = (score_data < threshold)\n",
    "    \n",
    "    plt.figure(dpi=100)\n",
    "    plt.plot(ranks[mask_outliers], score_data[mask_outliers], 'o', color='r', label='anomalies')\n",
    "    plt.plot(ranks[~mask_outliers], score_data[~mask_outliers], 'o', color='b', label='typical district')\n",
    "    plt.axhline(threshold, color='r', label='threshold', alpha=0.5)\n",
    "    plt.legend(loc='upper right')\n",
    "    plt.title('Z-score vs. district', fontweight='bold')\n",
    "    plt.xlabel('District Rank')\n",
    "    plt.ylabel('Z-score')\n",
    "    plt.show()\n",
    "\n",
    "plot_anomaly_rates(part_rate['zscore'], -2)\n",
    "\n",
    "zscore_anomalies_rates = part_rate[(part_rate['zscore'] < -2)]\n",
    "zscore_anomalies_rates\n",
    "\n",
    "median_rate = np.median(part_rate['Participation Rate'])\n",
    "median_rate\n",
    "\n",
    "def modified_zscore(data, consistency_correction=1.4826):\n",
    "    \"\"\"\n",
    "    Повертає модифікований z-оцінку та середнє абсолютне відхилення (MAD) із оцінок у даних.\n",
    "     Коефіцієнт поправки консистенції перетворює MAD на стандартне відхилення для даного розподілу. \n",
    "     Значення за замовчуванням (1,4826) є коефіцієнтом перетворення, якщо базові дані розподілені нормально\n",
    "    \"\"\"\n",
    "    median = np.median(data)\n",
    "    \n",
    "    deviation_from_med = np.array(data) - median\n",
    "\n",
    "    mad = np.median(np.abs(deviation_from_med))\n",
    "    mod_zscore = deviation_from_med/(consistency_correction*mad)\n",
    "    return mod_zscore, mad\n",
    "\n",
    "mod_zscore_rates, mad_rates = modified_zscore(part_rate['Participation Rate'])\n",
    "part_rate = part_rate.assign(mod_zscore=mod_zscore_rates)\n",
    "\n",
    "def plot_anomaly_rates_2(score_data, threshold):\n",
    "    score_data = score_data.copy().sort_values(ascending=False).values\n",
    "    ranks = np.linspace(1, len(score_data), len(score_data))\n",
    "    mask_outliers = (score_data < threshold)\n",
    "    \n",
    "    plt.figure(dpi=100)\n",
    "    plt.plot(ranks[mask_outliers], score_data[mask_outliers],'o', color='r',label='anomalies')\n",
    "    plt.plot(ranks[~mask_outliers], score_data[~mask_outliers],'o', color='b', label='typical district')\n",
    "    plt.axhline(threshold,color='r',label='threshold', alpha=0.5)\n",
    "    plt.legend(loc = 'upper right')\n",
    "    plt.title('Modified z-score vs. district', fontweight='bold')\n",
    "    plt.xlabel('District')\n",
    "    plt.ylabel('Modified z-score')\n",
    "    plt.show()\n",
    "\n",
    "plot_anomaly_rates_2(part_rate['mod_zscore'], -2)"
   ]
  },
  {
   "cell_type": "code",
   "execution_count": 3,
   "id": "cc279357",
   "metadata": {},
   "outputs": [
    {
     "name": "stdout",
     "output_type": "stream",
     "text": [
      "The value of MAD is 0.09\n",
      "Standard deviation is 0.14\n"
     ]
    }
   ],
   "source": [
    "mod_zscore_anomalies_rates = part_rate[(part_rate['mod_zscore'] < -2.1)]\n",
    "mod_zscore_anomalies_rates\n",
    "\n",
    "print('The value of MAD is {:.2f}'.format(mad_rates))\n",
    "print('Standard deviation is {:.2f}'.format(stdev_rates))"
   ]
  },
  {
   "cell_type": "code",
   "execution_count": 3,
   "id": "0399fc3b",
   "metadata": {},
   "outputs": [
    {
     "name": "stdout",
     "output_type": "stream",
     "text": [
      "                                              District  Participation Rate  \\\n",
      "125                                   Stamford Academy                0.28   \n",
      "99                                             Windham                0.37   \n",
      "121  Eastern Connecticut Regional Educational Servi...                0.39   \n",
      "50                                         New Britain                0.40   \n",
      "\n",
      "       zscore  mod_zscore  \n",
      "125 -3.395374   -3.484869  \n",
      "99  -2.731839   -2.810378  \n",
      "121 -2.584386   -2.660491  \n",
      "50  -2.510660   -2.585548  \n"
     ]
    },
    {
     "data": {
      "image/png": "[encoded data removed]",
      "text/plain": [
       "<Figure size 1000x600 with 1 Axes>"
      ]
     },
     "metadata": {},
     "output_type": "display_data"
    },
    {
     "data": {
      "image/png": "[encoded data removed]",
      "text/plain": [
       "<Figure size 1000x600 with 1 Axes>"
      ]
     },
     "metadata": {},
     "output_type": "display_data"
    }
   ],
   "source": [
    "# Define Grubbs' Test function\n",
    "def grubbs_test(data, alpha=0.05):\n",
    "    n = len(data)\n",
    "    mean = np.mean(data)\n",
    "    std_dev = np.std(data)\n",
    "    z_scores = (data - mean) / std_dev\n",
    "    abs_z_scores = np.abs((data - mean) / std_dev)\n",
    "    max_z_score = np.max(abs_z_scores)\n",
    "    max_z_score_index = np.argmax(abs_z_scores)\n",
    "    \n",
    "    # Calculate the Grubbs' Test statistic\n",
    "    G_calculated = (n-1) * np.sqrt(max_z_score**2 / (n-2+max_z_score**2))\n",
    "\n",
    "    # Look up the critical value of the Grubbs' Test statistic from the t-distribution\n",
    "    t_critical = ss.t.ppf(1 - alpha / (2*n), n-2)\n",
    "    G_critical = ((n-1) / np.sqrt(n)) * np.sqrt(t_critical**2 / (n-2 + t_critical**2))\n",
    "\n",
    "    # If the calculated test statistic is larger than the critical value, then reject the null hypothesis and mark the data point as an outlier\n",
    "    if G_calculated > G_critical:\n",
    "        outlier = True\n",
    "    else:\n",
    "        outlier = False\n",
    "\n",
    "    return max_z_score_index, outlier\n",
    "\n",
    "# Repeat Grubbs' Test four times, removing the outlier each time\n",
    "part_rate_copy = part_rate.copy()\n",
    "outliers = []\n",
    "\n",
    "for _ in range(4):\n",
    "    outlier_index, is_outlier = grubbs_test(part_rate_copy['Participation Rate'])\n",
    "    if is_outlier:\n",
    "        outliers.append(part_rate_copy.iloc[outlier_index])\n",
    "        part_rate_copy = part_rate_copy.drop(part_rate_copy.index[outlier_index])\n",
    "    else:\n",
    "        break\n",
    "\n",
    "# Convert the list of outliers to a DataFrame\n",
    "grubbs_anomalies_rates = pd.DataFrame(outliers)\n",
    "\n",
    "# Display the outliers found by Grubbs' Test\n",
    "print(grubbs_anomalies_rates)\n",
    "\n",
    "# Create a scatter plot of the data\n",
    "plt.figure(figsize=(10, 6))\n",
    "plt.scatter(range(len(part_rate['Participation Rate'])), part_rate['Participation Rate'], color='blue', label='Data points')\n",
    "for outlier in outliers:\n",
    "    plt.scatter(part_rate[part_rate['District'] == outlier['District']].index, outlier['Participation Rate'], color='red', label='Outlier')\n",
    "plt.axhline(y=np.mean(part_rate['Participation Rate']), color='green', linestyle='-', label='Mean')\n",
    "plt.legend()\n",
    "plt.title('Data points and Outliers')\n",
    "plt.xlabel('Index')\n",
    "plt.ylabel('Participation Rate')\n",
    "plt.show()\n",
    "\n",
    "# Create a histogram of the data\n",
    "plt.figure(figsize=(10, 6))\n",
    "plt.hist(part_rate['Participation Rate'], bins=20, color='blue', alpha=0.7, label='Data points')\n",
    "for outlier in outliers:\n",
    "    plt.axvline(x=outlier['Participation Rate'], color='red', linestyle='-', label='Outlier')\n",
    "plt.axvline(x=np.mean(part_rate['Participation Rate']), color='green', linestyle='-', label='Mean')\n",
    "plt.legend()\n",
    "plt.title('Histogram and Outliers')\n",
    "plt.xlabel('Value')\n",
    "plt.ylabel('Participation Rate')\n",
    "plt.show()"
   ]
  },
  {
   "cell_type": "code",
   "execution_count": null,
   "id": "af236d6d",
   "metadata": {},
   "outputs": [],
   "source": []
  }
 ],
 "metadata": {
  "kernelspec": {
   "display_name": "Python 3",
   "language": "python",
   "name": "python3"
  },
  "language_info": {
   "codemirror_mode": {
    "name": "ipython",
    "version": 3
   },
   "file_extension": ".py",
   "mimetype": "text/x-python",
   "name": "python",
   "nbconvert_exporter": "python",
   "pygments_lexer": "ipython3",
   "version": "3.13.0"
  }
 },
 "nbformat": 4,
 "nbformat_minor": 5
}
